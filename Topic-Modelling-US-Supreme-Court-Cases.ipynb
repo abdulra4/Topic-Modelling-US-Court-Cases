{
 "cells": [
  {
   "cell_type": "markdown",
   "metadata": {},
   "source": [
    "# Topic Modelling US Supreme Court Cases with High Performance Python\n",
    "Written paper to follow\n",
    "\n",
    "__Credits__<br>\n",
    "Case Law Access Project: https://case.law/ <br>\n",
    "Gensim Library: https://radimrehurek.com/gensim/index.html <br>\n",
    "Abhijeet Kumar: https://github.com/abhijeet3922/Topic-Modelling-on-Wiki-corpus <br>\n",
    "Susan Li: https://towardsdatascience.com/topic-modelling-in-python-with-nltk-and-gensim-4ef03213cd21"
   ]
  },
  {
   "cell_type": "code",
   "execution_count": null,
   "metadata": {},
   "outputs": [],
   "source": [
    "# System and file libraries\n",
    "import os, sys, random, codecs\n",
    "import pickle, datetime, logging\n",
    "\n",
    "# Profiling libraries\n",
    "import memory_profiler, line_profiler\n",
    "\n",
    "# Data parsing and wrangling libraries\n",
    "import lzma, json\n",
    "from pathlib import Path \n",
    "import xml.etree.cElementTree as ET\n",
    "import pandas as pd\n",
    "import numpy as np\n",
    "\n",
    "# Multiprocessor\n",
    "import concurrent.futures\n",
    "\n",
    "# Visualisation libraries\n",
    "import seaborn as sns\n",
    "import matplotlib.pyplot as plt\n",
    "\n",
    "# User defined class and methods\n",
    "from casewrangler import CaseWrangler\n",
    "from topicmodel import TopicModel\n",
    "\n",
    "# Modelling library\n",
    "from gensim.models.ldamodel import LdaModel\n",
    "from gensim.models.ldamulticore import LdaMulticore"
   ]
  },
  {
   "cell_type": "markdown",
   "metadata": {},
   "source": [
    "## __1)__ __Case Wrangling__"
   ]
  },
  {
   "cell_type": "code",
   "execution_count": 6,
   "metadata": {},
   "outputs": [],
   "source": [
    "# Setting case wrangling class to CW\n",
    "cw = CaseWrangler()"
   ]
  },
  {
   "cell_type": "markdown",
   "metadata": {},
   "source": [
    "## (a) Speeding Up the Case Wrangler"
   ]
  },
  {
   "cell_type": "markdown",
   "metadata": {},
   "source": [
    "### (i) Extract Cases"
   ]
  },
  {
   "cell_type": "markdown",
   "metadata": {},
   "source": [
    "#### __Single Processing for Multiple States__"
   ]
  },
  {
   "cell_type": "code",
   "execution_count": 69,
   "metadata": {},
   "outputs": [],
   "source": [
    "file_paths = os.listdir(path = 'Cases/')\n",
    "files = ['Cases/' + path + '/data/data.jsonl.xz' for path in file_paths]\n",
    "\n",
    "# Removing ipynb checkpoints from files\n",
    "del files[0]\n",
    "\n",
    "if __name__ == \"__main__\":\n",
    "    start=datetime.datetime.now() \n",
    "    \n",
    "    c = cw.extractCases(files)\n",
    "    \n",
    "    time=datetime.datetime.now()-start\n",
    "    print('Total Time Elapsed:', time)\n",
    "\n",
    "# Total Time Elapsed: 0:01:58.719457"
   ]
  },
  {
   "cell_type": "markdown",
   "metadata": {},
   "source": [
    "#### __Profiling the Function__"
   ]
  },
  {
   "cell_type": "markdown",
   "metadata": {},
   "source": [
    "Results below show that extraction takes approximately 0.0003 seconds per case\n",
    "\n",
    "__Arizona__<br>\n",
    "Number of Cases: 28182<br>\n",
    "Total Time Elapsed: 0:00:10.384741\n",
    "\n",
    "__Illinois__<br>\n",
    "Number of Cases: 183149<br>\n",
    "Total Time Elapsed: 0:01:03.854829"
   ]
  },
  {
   "cell_type": "markdown",
   "metadata": {},
   "source": [
    "__Line Profiler Results__ "
   ]
  },
  {
   "cell_type": "code",
   "execution_count": null,
   "metadata": {},
   "outputs": [],
   "source": [
    "%reload_ext line_profiler\n",
    "%lprun -f cw.extractCases cw.extractCases(files[0])"
   ]
  },
  {
   "cell_type": "raw",
   "metadata": {},
   "source": [
    "Number of Cases: 183149\n",
    "Timer unit: 1e-06 s\n",
    "\n",
    "Total time: 59.8759 s\n",
    "File: /Users/####/casewrangler.py\n",
    "Function: extractCases at line 16\n",
    "\n",
    "Line #      Hits         Time  Per Hit   % Time  Line Contents\n",
    "==============================================================\n",
    "    16                                               def extractCases(self, file):\n",
    "    17                                                   #Set path to locate files\n",
    "    18         1         10.0     10.0      0.0          compressed_file = os.path.join(file)\n",
    "    19                                           \n",
    "    20         1          1.0      1.0      0.0          cases = []\n",
    "    21                                                   #Decompress the file line by line\n",
    "    22         1        250.0    250.0      0.0          with lzma.open(compressed_file) as infile:\n",
    "    23    183150   42538300.0    232.3     71.0              for line in infile:\n",
    "    24    183149   17155188.0     93.7     28.7                  record = json.loads(str(line, 'utf-8'))\n",
    "    25    183149     182083.0      1.0      0.3                  cases.append(record)\n",
    "    26                                           \n",
    "    27         1         90.0     90.0      0.0          print(\"Number of Cases: {}\".format(len(cases)))\n",
    "    28                                                   # cases_law = open('cases_law.pkl', 'wb')\n",
    "    29                                                   # pickle.dump(cases, cases_law)\n",
    "    30                                           \n",
    "    31         1          0.0      0.0      0.0          return cases"
   ]
  },
  {
   "cell_type": "markdown",
   "metadata": {},
   "source": [
    "__Memory Profiler Results__"
   ]
  },
  {
   "cell_type": "code",
   "execution_count": null,
   "metadata": {},
   "outputs": [],
   "source": [
    "%reload_ext memory_profiler\n",
    "%mprun -f cw.extractCases cw.extractCases(files[0])"
   ]
  },
  {
   "cell_type": "raw",
   "metadata": {},
   "source": [
    "Number of Cases: 183149\n",
    "Filename: /Users/####/casewrangler.py\n",
    "\n",
    "Line #    Mem usage    Increment   Line Contents\n",
    "================================================\n",
    "    16   2193.5 MiB   2193.5 MiB       def extractCases(self, file):\n",
    "    17                                     #Set path to locate files\n",
    "    18   2193.5 MiB      0.0 MiB           compressed_file = os.path.join(file)\n",
    "    19                             \n",
    "    20   2193.5 MiB      0.0 MiB           cases = []\n",
    "    21                                     #Decompress the file line by line\n",
    "    22   2193.5 MiB      0.0 MiB           with lzma.open(compressed_file) as infile:\n",
    "    23   7876.4 MiB      1.0 MiB               for line in infile:\n",
    "    24   7876.4 MiB      2.5 MiB                   record = json.loads(str(line, 'utf-8')) #decode the file into a convenient format\n",
    "    25                             \n",
    "    26                                             #if the decision date on the case matches one we're interested in, add to our list\n",
    "    27   7876.4 MiB      0.5 MiB                   cases.append(record)\n",
    "    28                             \n",
    "    29   7876.4 MiB      0.0 MiB           print(\"Number of Cases: {}\".format(len(cases)))\n",
    "    30                                     # cases_law = open('cases_law.pkl', 'wb')\n",
    "    31                                     # pickle.dump(cases, cases_law)\n",
    "    32                             \n",
    "    33   7876.4 MiB      0.0 MiB           return cases"
   ]
  },
  {
   "cell_type": "code",
   "execution_count": null,
   "metadata": {},
   "outputs": [],
   "source": [
    "%reload_ext memory_profiler\n",
    "%memit cw.extractCases(files[0])"
   ]
  },
  {
   "cell_type": "raw",
   "metadata": {},
   "source": [
    "Number of Cases: 183149\n",
    "peak memory: 7868.67 MiB, increment: 5639.30 MiB"
   ]
  },
  {
   "cell_type": "markdown",
   "metadata": {},
   "source": [
    "#### __Multiprocessing for Multiple States__"
   ]
  },
  {
   "cell_type": "code",
   "execution_count": null,
   "metadata": {},
   "outputs": [],
   "source": [
    "# Note that approach of assigning each zip file as a task takes up too much memory so it stalls the process\n",
    "# So changed to a computer with more RAM space\n",
    "\n",
    "def extractMulti():\n",
    "    with concurrent.futures.ProcessPoolExecutor() as executor:\n",
    "        cases = executor.map(cw.extractCases, files)\n",
    "        \n",
    "    return cases\n",
    "\n",
    "if __name__ == \"__main__\":\n",
    "    start=datetime.datetime.now()\n",
    "    \n",
    "    extractMulti()\n",
    "    \n",
    "    time=datetime.datetime.now()-start\n",
    "    print('Total Time Elapsed:', time)\n",
    "    \n",
    "# Total Time Elapsed Chunksize=1: 0:02:41.332746\n",
    "# Total Time Elapsed Chunksize=2: 0:03:43.614178\n",
    "# Total Time Elapsed Chunksize=10: 0:05:01.03791\n",
    "# Total Time Elapsed Chunksize=10,000: 0:05:01.855583"
   ]
  },
  {
   "cell_type": "code",
   "execution_count": null,
   "metadata": {},
   "outputs": [],
   "source": [
    "%reload_ext memory_profiler\n",
    "%memit extractMulti()"
   ]
  },
  {
   "cell_type": "raw",
   "metadata": {},
   "source": [
    "Number of Cases: 183149\n",
    "peak memory: 9576.67 MiB, increment: 7828.30 MiB"
   ]
  },
  {
   "cell_type": "markdown",
   "metadata": {},
   "source": [
    "## (ii) Wrangle Cases into DataFrame"
   ]
  },
  {
   "cell_type": "markdown",
   "metadata": {},
   "source": [
    "#### __Single Processing of Wrangling Using Arizona__"
   ]
  },
  {
   "cell_type": "code",
   "execution_count": null,
   "metadata": {},
   "outputs": [],
   "source": [
    "az_path = os.path.abspath('Arizona-20181204-xml/data/data.jsonl.xz')\n",
    "az_corpus = os.path.abspath('Arizona-20181204-xml/corpus')\n",
    "az_cases = cw.extractCases(az_path)\n",
    "\n",
    "if __name__ == \"__main__\":\n",
    "    start=datetime.datetime.now() \n",
    "    \n",
    "    az_df = cw.wrangleCases(az_cases)\n",
    "        \n",
    "    time=datetime.datetime.now()-start\n",
    "    print('Total Time Elapsed:', time)\n",
    "\n",
    "# Total Time Elapsed: 0:00:10.312315"
   ]
  },
  {
   "cell_type": "markdown",
   "metadata": {},
   "source": [
    "#### __Profiling the Function__"
   ]
  },
  {
   "cell_type": "markdown",
   "metadata": {},
   "source": [
    "Results below show that wrangling takes approximately 0.0003 seconds per case\n",
    "\n",
    "__Arizona__<br>\n",
    "Number of Cases: 28182<br>\n",
    "Total Time Elapsed: 0:00:11.417168"
   ]
  },
  {
   "cell_type": "markdown",
   "metadata": {},
   "source": [
    "__Line Profiler Results__"
   ]
  },
  {
   "cell_type": "code",
   "execution_count": null,
   "metadata": {},
   "outputs": [],
   "source": [
    "%reload_ext line_profiler\n",
    "%lprun -f cw.wrangleCases cw.wrangleCases(az_cases)"
   ]
  },
  {
   "cell_type": "raw",
   "metadata": {},
   "source": [
    "Timer unit: 1e-06 s\n",
    "\n",
    "Total time: 23.559 s\n",
    "File: /Users/####/casewrangler.py\n",
    "Function: wrangleCases at line 35\n",
    "\n",
    "Line #      Hits         Time  Per Hit   % Time  Line Contents\n",
    "==============================================================\n",
    "    35                                                   parsed_files = []"
   ]
  },
  {
   "cell_type": "markdown",
   "metadata": {},
   "source": [
    "__Memory Profiler Results__"
   ]
  },
  {
   "cell_type": "code",
   "execution_count": null,
   "metadata": {},
   "outputs": [],
   "source": [
    "# Memory used is contant throughout as most of it comes from loading the cases, as such only memit is shown below\n",
    "%reload_ext memory_profiler\n",
    "%memit cw.wrangleCases(az_cases)"
   ]
  },
  {
   "cell_type": "raw",
   "metadata": {},
   "source": [
    "peak memory: 5057.53 MiB, increment: 164.92 MiB"
   ]
  },
  {
   "cell_type": "markdown",
   "metadata": {},
   "source": [
    "#### __Multiprocessing of Wrangling Using Arizona__"
   ]
  },
  {
   "cell_type": "code",
   "execution_count": null,
   "metadata": {},
   "outputs": [],
   "source": [
    "# Multiprocessing of Wrangling Using Arizona\n",
    "# Optimal workers and chunksize used below\n",
    "def multiWrangle():\n",
    "    with concurrent.futures.ProcessPoolExecutor() as executor:\n",
    "        results = executor.map(cw.wrangleCases, az_cases, chunksize = 16)\n",
    "    \n",
    "    return results\n",
    "\n",
    "if __name__ == \"__main__\":\n",
    "    start=datetime.datetime.now() \n",
    "    \n",
    "    multiWrangle = multiWrangle()\n",
    "        \n",
    "    time=datetime.datetime.now()-start\n",
    "    print('Total Time Elapsed:', time)\n",
    "    \n",
    "# Total Time Elapsed: 0:00:01.829192"
   ]
  },
  {
   "cell_type": "code",
   "execution_count": 4,
   "metadata": {},
   "outputs": [],
   "source": [
    "# Using a loop I ran the multiprocessing with varying workers and chunksizes\n",
    "# Theses were saved onto a file loaded below\n",
    "\n",
    "# Importing saved runtimes for optimised processes\n",
    "xlsx = pd.ExcelFile('DAS Times.xlsx')\n",
    "\n",
    "data_c1 = pd.read_excel(xlsx, 0)\n",
    "data_w1 = pd.read_excel(xlsx, 1)\n",
    "data_w4 = pd.read_excel(xlsx, 2)\n",
    "data_c2 = pd.read_excel(xlsx, 3)\n",
    "data_w8 = pd.read_excel(xlsx, 4)"
   ]
  },
  {
   "cell_type": "markdown",
   "metadata": {},
   "source": [
    "__Results for Workers Optimisation__"
   ]
  },
  {
   "cell_type": "code",
   "execution_count": 8,
   "metadata": {},
   "outputs": [
    {
     "data": {
      "text/plain": [
       "<function matplotlib.pyplot.show(*args, **kw)>"
      ]
     },
     "execution_count": 8,
     "metadata": {},
     "output_type": "execute_result"
    },
    {
     "data": {
      "image/png": "[encoded data removed]",
      "text/plain": [
       "<Figure size 720x360 with 1 Axes>"
      ]
     },
     "metadata": {},
     "output_type": "display_data"
    }
   ],
   "source": [
    "sns.set(font_scale = 1)\n",
    "f, ax = plt.subplots(figsize = (10, 5))\n",
    "\n",
    "sns.pointplot(ax=ax,x='Workers',y='Time Elapsed',data=data_c1,color='red')\n",
    "\n",
    "ax.legend(handles=ax.lines[::len(data_c1)+1], labels=['Chunksize = 1'])\n",
    "ax.set_xticklabels([t.get_text().split(\"T\")[0] for t in ax.get_xticklabels()])\n",
    "\n",
    "plt.show"
   ]
  },
  {
   "cell_type": "markdown",
   "metadata": {},
   "source": [
    "__Results for Workers Optimisation__"
   ]
  },
  {
   "cell_type": "code",
   "execution_count": 9,
   "metadata": {},
   "outputs": [
    {
     "data": {
      "text/plain": [
       "<function matplotlib.pyplot.show(*args, **kw)>"
      ]
     },
     "execution_count": 9,
     "metadata": {},
     "output_type": "execute_result"
    },
    {
     "data": {
      "image/png": "[encoded data removed]",
      "text/plain": [
       "<Figure size 720x360 with 1 Axes>"
      ]
     },
     "metadata": {},
     "output_type": "display_data"
    }
   ],
   "source": [
    "sns.set(font_scale = 1)\n",
    "f, ax = plt.subplots(figsize = (10, 5))\n",
    "\n",
    "sns.pointplot(ax=ax,x='Chunksize',y='Time Elapsed',data=data_w1,color='orange')\n",
    "sns.pointplot(ax=ax,x='Chunksize',y='Time Elapsed',data=data_w4,color='green')\n",
    "\n",
    "ax.legend(handles=ax.lines[::len(data_w1)+1], labels=['Workers = 1','Workers = 4'])\n",
    "ax.set_xticklabels([t.get_text().split(\"T\")[0] for t in ax.get_xticklabels()])\n",
    "\n",
    "plt.show"
   ]
  },
  {
   "cell_type": "markdown",
   "metadata": {},
   "source": [
    "## __2)__ __Topic Modelling__"
   ]
  },
  {
   "cell_type": "code",
   "execution_count": 8,
   "metadata": {},
   "outputs": [],
   "source": [
    "# Setting topic model class to TM\n",
    "tm = TopicModel()"
   ]
  },
  {
   "cell_type": "markdown",
   "metadata": {},
   "source": [
    "## Speeding Up Topic Modelling"
   ]
  },
  {
   "cell_type": "markdown",
   "metadata": {},
   "source": [
    "### (i) Creating Corpus "
   ]
  },
  {
   "cell_type": "markdown",
   "metadata": {},
   "source": [
    "#### __Single Processing of Corpus Creation Using Arizona__"
   ]
  },
  {
   "cell_type": "code",
   "execution_count": 9,
   "metadata": {},
   "outputs": [
    {
     "name": "stdout",
     "output_type": "stream",
     "text": [
      "Total Time Elapsed: 0:01:04.610561\n"
     ]
    }
   ],
   "source": [
    "# Data Preprocessing for Modelling Using Arizona \n",
    "if __name__ == \"__main__\":\n",
    "    start=datetime.datetime.now() \n",
    "    \n",
    "    docs = tm.createCorpus(az_corpus, az_df)\n",
    "\n",
    "    time=datetime.datetime.now()-start\n",
    "    print('Total Time Elapsed:', time)\n",
    "\n",
    "# Total Time Elapsed: 0:00:14.324246"
   ]
  },
  {
   "cell_type": "markdown",
   "metadata": {},
   "source": [
    "#### __Profiling the Function__"
   ]
  },
  {
   "cell_type": "markdown",
   "metadata": {},
   "source": [
    "Results below show the loop takes the bulk of time.<br>\n",
    "We get an average time of 0.0005 per case opinion created"
   ]
  },
  {
   "cell_type": "markdown",
   "metadata": {},
   "source": [
    "__Line Profiler Results__"
   ]
  },
  {
   "cell_type": "code",
   "execution_count": null,
   "metadata": {},
   "outputs": [],
   "source": [
    "%reload_ext line_profiler\n",
    "%lprun -f tm.createCorpus tm.createCorpus(az_corpus, az_df)"
   ]
  },
  {
   "cell_type": "raw",
   "metadata": {},
   "source": [
    "Timer unit: 1e-06 s\n",
    "\n",
    "Total time: 18.3981 s\n",
    "File: /Users/####/topicmodel.py\n",
    "Function: createCorpus at line 16\n",
    "\n",
    "Line #      Hits         Time  Per Hit   % Time  Line Contents\n",
    "==============================================================\n",
    "    16                                               def createCorpus(self, corpuspath, dataframe):\n",
    "    17                                                   #Create files from dataframe and dump them into folder\n",
    "    18     28147    4772554.0    169.6     25.9          for index, r in dataframe.iterrows():\n",
    "    19     28146     862857.0     30.7      4.7              id=r['citation']\n",
    "    20     28146     640363.0     22.8      3.5              title=r['name']\n",
    "    21     28146     598725.0     21.3      3.3              body=r['text']\n",
    "    22     28146     591060.0     21.0      3.2              category=r['type']\n",
    "    23     28146      65670.0      2.3      0.4              fname=str(category)+'_'+str(id)+'.txt'\n",
    "    24     28146    1960934.0     69.7     10.7              corpusfile=open(corpuspath+'/'+fname,'a')\n",
    "    25     28146    1153524.0     41.0      6.3              corpusfile.write(str(body) +\" \" +str(title))\n",
    "    26     28146    3493526.0    124.1     19.0              corpusfile.close()\n",
    "    27                                           \n",
    "    28                                                   #Load corpus into after conversion\n",
    "    29                                                   #Read contents of all the articles into a list and randomly sample them\n",
    "    30         1     136834.0 136834.0      0.7          articlepaths = [os.path.join(corpuspath,p) for p in os.listdir(corpuspath)]\n",
    "    31                                           \n",
    "    32         1          2.0      2.0      0.0          doc_complete = []\n",
    "    33     27616      23216.0      0.8      0.1          for path in articlepaths:\n",
    "    34     27615      17533.0      0.6      0.1              try:\n",
    "    35     27615    1804994.0     65.4      9.8                  fp = codecs.open(path, 'r', 'utf-8', errors='ignore')\n",
    "    36     27615    2121575.0     76.8     11.5                  doc_content = fp.read()\n",
    "    37     27615      37823.0      1.4      0.2                  doc_complete.append(doc_content)\n",
    "    38                                           \n",
    "    39                                                       \n",
    "    40                                                       except IsADirectoryError:\n",
    "    41                                                           pass\n",
    "    42                                           \n",
    "    43                                                   #Randomly sample articles from the corpus created\n",
    "    44         1     116949.0 116949.0      0.6          docs_all = random.sample(doc_complete, len(doc_complete))\n",
    "    45                                                   # docs = open(\"docs_law.pkl\", 'wb')\n",
    "    46                                                   # pickle.dump(docs_all, docs)\n",
    "    47                                           \n",
    "    48         1          4.0      4.0      0.0          return docs_all"
   ]
  },
  {
   "cell_type": "markdown",
   "metadata": {},
   "source": [
    "__Memory Profiler Results__"
   ]
  },
  {
   "cell_type": "code",
   "execution_count": null,
   "metadata": {},
   "outputs": [],
   "source": [
    "# Memory used is contant throughout as most of it comes from loading the cases, as such only memit is shown below\n",
    "%reload_ext memory_profiler\n",
    "%memit tm.createCorpus(az_corpus, az_df)"
   ]
  },
  {
   "cell_type": "raw",
   "metadata": {},
   "source": [
    "peak memory: 6473.23 MiB, increment: 725.17 MiB"
   ]
  },
  {
   "cell_type": "markdown",
   "metadata": {},
   "source": [
    "#### __Multiprocessing of Corpus Creation Using Arizona__"
   ]
  },
  {
   "cell_type": "code",
   "execution_count": null,
   "metadata": {},
   "outputs": [],
   "source": [
    "# Creating corpus using multiprocessing optimisation\n",
    "# Optimal workers and chunksize used below\n",
    "\n",
    "def multiCorpus():\n",
    "\n",
    "    with concurrent.futures.ProcessPoolExecutor(max_workers = 4) as executor:\n",
    "        result = executor.map(createCorpus(corpus_path, df), chunksize = 256) \n",
    "    \n",
    "    return result\n",
    "\n",
    "if __name__ == \"__main__\":\n",
    "    start=datetime.datetime.now() \n",
    "\n",
    "    multiCorpus()\n",
    "        \n",
    "    time=datetime.datetime.now()-start\n",
    "    print('Total Time Elapsed:', time)\n",
    "    \n",
    "# Total Time Elapsed: 0:00:11.437879"
   ]
  },
  {
   "cell_type": "markdown",
   "metadata": {},
   "source": [
    "__Results for Workers Optimisation__"
   ]
  },
  {
   "cell_type": "code",
   "execution_count": 11,
   "metadata": {},
   "outputs": [
    {
     "data": {
      "text/plain": [
       "<function matplotlib.pyplot.show(*args, **kw)>"
      ]
     },
     "execution_count": 11,
     "metadata": {},
     "output_type": "execute_result"
    },
    {
     "data": {
      "image/png": "[encoded data removed]",
      "text/plain": [
       "<Figure size 720x360 with 1 Axes>"
      ]
     },
     "metadata": {},
     "output_type": "display_data"
    }
   ],
   "source": [
    "sns.set(font_scale = 1)\n",
    "f, ax = plt.subplots(figsize = (10, 5))\n",
    "\n",
    "sns.pointplot(ax=ax,x='Workers',y='Time Elapsed',data=data_c2,color='red')\n",
    "\n",
    "ax.legend(handles=ax.lines[::len(data_c2)+1], labels=['Chunksize = 1'])\n",
    "ax.set_xticklabels([t.get_text().split(\"T\")[0] for t in ax.get_xticklabels()])\n",
    "\n",
    "plt.show"
   ]
  },
  {
   "cell_type": "markdown",
   "metadata": {},
   "source": [
    "__Results for Chunksize Optimisation__"
   ]
  },
  {
   "cell_type": "code",
   "execution_count": 13,
   "metadata": {},
   "outputs": [
    {
     "data": {
      "text/plain": [
       "<function matplotlib.pyplot.show(*args, **kw)>"
      ]
     },
     "execution_count": 13,
     "metadata": {},
     "output_type": "execute_result"
    },
    {
     "data": {
      "image/png": "[encoded data removed]",
      "text/plain": [
       "<Figure size 720x360 with 1 Axes>"
      ]
     },
     "metadata": {},
     "output_type": "display_data"
    }
   ],
   "source": [
    "sns.set(font_scale = 1)\n",
    "f, ax = plt.subplots(figsize = (10, 5))\n",
    "\n",
    "sns.pointplot(ax=ax,x='Chunksize',y='Time Elapsed',data=data_w8,color='green')\n",
    "\n",
    "ax.legend(handles=ax.lines[::len(data_w8)+1], labels=['Workers = 4'])\n",
    "ax.set_xticklabels([t.get_text().split(\"T\")[0] for t in ax.get_xticklabels()])\n",
    "\n",
    "plt.show"
   ]
  },
  {
   "cell_type": "markdown",
   "metadata": {},
   "source": [
    "### (ii) Final Data Preprocessing"
   ]
  },
  {
   "cell_type": "markdown",
   "metadata": {},
   "source": [
    "#### __Single Processing of Preprocessing Using Arizona__"
   ]
  },
  {
   "cell_type": "code",
   "execution_count": null,
   "metadata": {},
   "outputs": [],
   "source": [
    "# Data Preprocessing for Modelling Using Arizona\n",
    "# Preparing data to go into LDA model\n",
    "\n",
    "def preProcess():\n",
    "\n",
    "    docs_clean = [tm.cleanWords(doc) for doc in docs] \n",
    "    dict_clean = tm.filterWords(docs_clean) \n",
    "    term_matrix = [dict_clean.doc2bow(doc) for doc in docs_clean]\n",
    "    \n",
    "    return docs_clean, dict_clean, term_matrix\n",
    "\n",
    "if __name__ == \"__main__\":\n",
    "    start=datetime.datetime.now() \n",
    "    \n",
    "    model_inputs = preProcess()\n",
    "    \n",
    "    time=datetime.datetime.now()-start\n",
    "    print('Total Time Elapsed:', time)\n",
    "\n",
    "# Total Time Elapsed: 0:03:06.558201"
   ]
  },
  {
   "cell_type": "markdown",
   "metadata": {},
   "source": [
    "#### __Profiling the Function__"
   ]
  },
  {
   "cell_type": "markdown",
   "metadata": {},
   "source": [
    "As functions from the gensim and NLTK library are used it is not possible to use line profiler<br>\n",
    "Memory profiling is shown below as this is a key bottleneck encountered.\n",
    "\n",
    "Average time per case comes to 0.008 seconds"
   ]
  },
  {
   "cell_type": "markdown",
   "metadata": {},
   "source": [
    "__Memory Profiler Results__"
   ]
  },
  {
   "cell_type": "code",
   "execution_count": null,
   "metadata": {},
   "outputs": [],
   "source": [
    "%reload_ext memory_profiler\n",
    "%memit preProcess()"
   ]
  },
  {
   "cell_type": "raw",
   "metadata": {},
   "source": [
    "peak memory: 9183.18 MiB, increment: 3111.15 MiB"
   ]
  },
  {
   "cell_type": "markdown",
   "metadata": {},
   "source": [
    "#### __Multiprocessing of Model Preprocessing Using Arizona__"
   ]
  },
  {
   "cell_type": "code",
   "execution_count": 18,
   "metadata": {},
   "outputs": [],
   "source": [
    "# Data Preprocessing for Modelling Using Arizona\n",
    "# Multiprocessing of preprocessing\n",
    "\n",
    "def preProcessMulti():\n",
    "    with concurrent.futures.ProcessPoolExecutor() as executor:\n",
    "        inputs_multi = executor.map(preProcess())\n",
    "    \n",
    "    return inputs_multi\n",
    "\n",
    "if __name__ == \"__main__\":\n",
    "    start=datetime.datetime.now() \n",
    "    \n",
    "    model_inputs_multi = preProcessMulti()\n",
    "    \n",
    "    time=datetime.datetime.now()-start\n",
    "    print('Total Time Elapsed:', time)\n",
    "\n",
    "# Total Time Elapsed Chunksize=1: 0:03:10.989401\n",
    "# Total Time Elapsed Chunksize=2: 0:03:12.271223\n",
    "# Total Time Elapsed Chunksize=5: 0:03:11.716095\n",
    "# Total Time Elapsed Chunksize=10: 0:03:13.317744\n",
    "# Total Time Elapsed Chunksize=100: 0:03:15.717454\n",
    "# Total Time Elapsed Chunksize=1000: 0:03:13.301354"
   ]
  },
  {
   "cell_type": "code",
   "execution_count": null,
   "metadata": {},
   "outputs": [],
   "source": [
    "%reload_ext memory_profiler\n",
    "%memit preProcessMulti()"
   ]
  },
  {
   "cell_type": "raw",
   "metadata": {},
   "source": [
    "peak memory: 6882.22 MiB, increment: 2454.09 MiB"
   ]
  },
  {
   "cell_type": "markdown",
   "metadata": {},
   "source": [
    "### (iii) LDA Modelling"
   ]
  },
  {
   "cell_type": "markdown",
   "metadata": {},
   "source": [
    "#### __Single Processing of LDA Using Arizona__"
   ]
  },
  {
   "cell_type": "code",
   "execution_count": null,
   "metadata": {},
   "outputs": [],
   "source": [
    "# Single processing of LDA\n",
    "def singlLDA():\n",
    "    lda = LdaModel(corpus=term_matrix, id2word=dict_clean)\n",
    "    \n",
    "    return lda\n",
    "    \n",
    "if __name__ == \"__main__\":\n",
    "    start=datetime.datetime.now()\n",
    "    \n",
    "    singlLDA = singlLDA()\n",
    "\n",
    "    time=datetime.datetime.now()-start\n",
    "    print('Total Time Elapsed:', time)\n",
    "    \n",
    "# Total Time Elapsed: 0:05:38.095177\n",
    "# Total Time Elapsed: 0:04:56.425165"
   ]
  },
  {
   "cell_type": "markdown",
   "metadata": {},
   "source": [
    "#### __Profiling the Function__"
   ]
  },
  {
   "cell_type": "markdown",
   "metadata": {},
   "source": [
    "Could not use line profiler on the LDA as we could not extract the object from gensim <br>\n",
    "%reload_ext line_profiler <br>\n",
    "%lprun -f LdaModel LdaModel(corpus=term_matrix, id2word=dict_clean)"
   ]
  },
  {
   "cell_type": "code",
   "execution_count": null,
   "metadata": {},
   "outputs": [],
   "source": [
    "%reload_ext memory_profiler\n",
    "%memit LdaModel(corpus=term_matrix, id2word=dict_clean)"
   ]
  },
  {
   "cell_type": "raw",
   "metadata": {},
   "source": [
    "peak memory: 8920.09 MiB, increment: 1384.75 MiB"
   ]
  },
  {
   "cell_type": "markdown",
   "metadata": {},
   "source": [
    "#### __Multiprocessing of LDA Using Arizona__"
   ]
  },
  {
   "cell_type": "markdown",
   "metadata": {},
   "source": [
    "__ProcessPoolExecutor__"
   ]
  },
  {
   "cell_type": "code",
   "execution_count": null,
   "metadata": {},
   "outputs": [],
   "source": [
    "# Multiprocessing of LDA using ProcessPoolExecutor\n",
    "\n",
    "def multiLDA():\n",
    "    with concurrent.futures.ProcessPoolExecutor() as executor:\n",
    "        lda = executor.map(LdaModel(corpus=term_matrix, id2word=dict_clean), chunksize=6000)\n",
    "    \n",
    "    return lda\n",
    "\n",
    "if __name__ == \"__main__\":\n",
    "    start=datetime.datetime.now() \n",
    "    \n",
    "    multiLDA = multiLDA()\n",
    "        \n",
    "    time=datetime.datetime.now()-start\n",
    "    print('Total Time Elapsed:', time)\n",
    "    \n",
    "# Total Time Elapsed Chunksize=1: 0:04:43.841308\n",
    "# Total Time Elapsed Chunksize=6000: 0:03:40.858797"
   ]
  },
  {
   "cell_type": "code",
   "execution_count": null,
   "metadata": {},
   "outputs": [],
   "source": [
    "%reload_ext memory_profiler\n",
    "%memit multiLDA()"
   ]
  },
  {
   "cell_type": "raw",
   "metadata": {},
   "source": [
    "peak memory: 5373.61 MiB, increment: 1397.06 MiB"
   ]
  },
  {
   "cell_type": "markdown",
   "metadata": {},
   "source": [
    "__Gensim__"
   ]
  },
  {
   "cell_type": "code",
   "execution_count": null,
   "metadata": {},
   "outputs": [],
   "source": [
    "# Multiprocessing of LDA using gensim multicore\n",
    "def multiLDAGen():\n",
    "    lda = LdaMulticore(corpus=term_matrix, id2word=dict_clean)\n",
    "    \n",
    "    return lda\n",
    "\n",
    "if __name__ == \"__main__\":\n",
    "    start=datetime.datetime.now()\n",
    "    \n",
    "    multiLDAGen = multiLDAGen()\n",
    "\n",
    "    time=datetime.datetime.now()-start\n",
    "    print('Total Time Elapsed:', time)\n",
    "    \n",
    "# Total Time Elapsed 3/4000: 0:02:50.236988"
   ]
  },
  {
   "cell_type": "markdown",
   "metadata": {},
   "source": [
    "#### __Distributing Computing Optimisation of LDA Using Arizona__ "
   ]
  },
  {
   "cell_type": "code",
   "execution_count": null,
   "metadata": {},
   "outputs": [],
   "source": [
    "# Distributed LDA (Ran on terminal and server)\n",
    "\n",
    "#For each computer in the cluster, run the following in the command line\n",
    "$ sudo easy_install gensim[distributed]\n",
    "$ export PYRO_SERIALIZERS_ACCEPTED=pickle\n",
    "$ export PYRO_SERIALIZER=pickle\n",
    "\n",
    "# Run Pyro name server on one of the machines\n",
    "$ python -m Pyro4.naming -n 0.0.0.0 &\n",
    "\n",
    "#Select the workers in the cluster and assign them in the command line using the code below\n",
    "$ python -m gensim.models.lda_worker &\n",
    "\n",
    "#Select the dispatcher and assign it in the command line using the code below\n",
    "$ python -m gensim.models.lda_dispatcher &\n",
    "\n",
    "#Now our cluster is set up and running, ready to accept jobs.\n",
    "#We can now run the LDA in the command line of the dispatcher and indicate that we there are clusters available\n",
    "logging.basicConfig(format='%(asctime)s : %(levelname)s : %(message)s', level=logging.INFO)\n",
    "\n",
    "lda = LdaModel(corpus=term_matrix, id2word=dict_clean, distributed=True)\n",
    "    \n",
    "# Total Time Elapsed 3/Home: 0:05:17.745186\n",
    "# Total Time Elapsed 3/Server:0:19:03.821357\n",
    "# Total Time Elapsed 6/Server:0:14:03.821357"
   ]
  },
  {
   "cell_type": "markdown",
   "metadata": {},
   "source": [
    "#### __LDA Model Results__"
   ]
  },
  {
   "cell_type": "markdown",
   "metadata": {},
   "source": [
    "__(a) Check Topics__"
   ]
  },
  {
   "cell_type": "code",
   "execution_count": null,
   "metadata": {},
   "outputs": [],
   "source": [
    "# Print LDA topics with weights \n",
    "for topic in singlLDA.print_topics(num_topics=5, num_words=10):\n",
    "    print (topic[0]+1, \" \", topic[1],\"\\n\")\n",
    "\n",
    "# # Print LDA topics formatted without weights \n",
    "# for idx, topic in singlLDA.show_topics(formatted=False, num_words= 10):\n",
    "#     print('Topic: {} \\nWords: {}'.format(idx, '|'.join([w[0] for w in topic])))"
   ]
  },
  {
   "cell_type": "code",
   "execution_count": null,
   "metadata": {},
   "outputs": [],
   "source": [
    "for topic in multiLDAGen.print_topics(num_topics=5, num_words=10):\n",
    "    print (topic[0]+1, \" \", topic[1],\"\\n\")"
   ]
  },
  {
   "cell_type": "markdown",
   "metadata": {},
   "source": [
    "__(b) Visualise Topics__"
   ]
  },
  {
   "cell_type": "code",
   "execution_count": null,
   "metadata": {},
   "outputs": [],
   "source": [
    "# pyLDAvis visualisation of model to see salient terms\n",
    "lda_display = pyLDAvis.gensim.prepare(singlLDA, term_matrix, dict_clean, sort_topics=True)\n",
    "pyLDAvis.save_html(lda_display, 'ldaSingl.html')\n",
    "pyLDAvis.display(lda_display)"
   ]
  },
  {
   "cell_type": "code",
   "execution_count": null,
   "metadata": {},
   "outputs": [],
   "source": [
    "lda_display = pyLDAvis.gensim.prepare(multiLDAGen, term_matrix, dict_clean, sort_topics=True)\n",
    "pyLDAvis.save_html(lda_display, 'ldaMulti.html')\n",
    "pyLDAvis.display(lda_display)"
   ]
  }
 ],
 "metadata": {
  "kernelspec": {
   "display_name": "Python 3",
   "language": "python",
   "name": "python3"
  },
  "language_info": {
   "codemirror_mode": {
    "name": "ipython",
    "version": 3
   },
   "file_extension": ".py",
   "mimetype": "text/x-python",
   "name": "python",
   "nbconvert_exporter": "python",
   "pygments_lexer": "ipython3",
   "version": "3.6.7"
  }
 },
 "nbformat": 4,
 "nbformat_minor": 2
}
